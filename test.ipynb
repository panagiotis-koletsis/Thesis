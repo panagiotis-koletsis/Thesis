{
 "cells": [
  {
   "cell_type": "code",
   "id": "initial_id",
   "metadata": {
    "collapsed": true,
    "ExecuteTime": {
     "end_time": "2024-07-30T13:19:41.902666Z",
     "start_time": "2024-07-30T13:19:41.900782Z"
    }
   },
   "source": [
    "import torch\n",
    "import torch.nn as nn"
   ],
   "outputs": [],
   "execution_count": 10
  },
  {
   "metadata": {
    "ExecuteTime": {
     "end_time": "2024-07-30T13:19:42.455219Z",
     "start_time": "2024-07-30T13:19:42.452814Z"
    }
   },
   "cell_type": "code",
   "source": [
    "class TrainableTable(nn.Module):\n",
    "    def __init__(self, k, n, d):\n",
    "        super(TrainableTable, self).__init__()\n",
    "        # Create a tensor of shape (k, n, d) with random initialization\n",
    "        self.table = nn.Parameter(torch.randn(k, n, d))\n",
    "\n",
    "    def forward(self):\n",
    "        return self.table\n",
    "\n",
    "# Example usage:\n",
    "k, n, d = 3, 4, 5  # Define dimensions\n",
    "model = TrainableTable(k, n, d)\n"
   ],
   "id": "4b2b32c9daf1ae86",
   "outputs": [],
   "execution_count": 11
  },
  {
   "metadata": {
    "ExecuteTime": {
     "end_time": "2024-07-30T13:19:43.131234Z",
     "start_time": "2024-07-30T13:19:43.128304Z"
    }
   },
   "cell_type": "code",
   "source": [
    "class KeyAndValueGenerator(nn.Module):\n",
    "    def __init__(self, input_dim, output_dim):\n",
    "        super(KeyAndValueGenerator, self).__init__()\n",
    "        self.key_layer = nn.Linear(input_dim, output_dim)\n",
    "        self.value_layer = nn.Linear(input_dim, output_dim)\n",
    "\n",
    "    def forward(self, x):\n",
    "        keys = self.key_layer(x)\n",
    "        values = self.value_layer(x)\n",
    "        return keys, values\n",
    "\n",
    "# Define the dimensions for the transformations\n",
    "key_value_dim = 6  # Example dimension for keys and values\n",
    "key_value_generator = KeyAndValueGenerator(d, key_value_dim)\n"
   ],
   "id": "1e28ba2edef35ae8",
   "outputs": [],
   "execution_count": 12
  },
  {
   "metadata": {
    "ExecuteTime": {
     "end_time": "2024-07-30T13:19:43.800844Z",
     "start_time": "2024-07-30T13:19:43.797042Z"
    }
   },
   "cell_type": "code",
   "source": [
    "# Get the table from the model\n",
    "table = model()\n",
    "\n",
    "# Compute keys and values\n",
    "keys, values = key_value_generator(table)\n",
    "\n",
    "print(\"Table:\", table)\n",
    "print(\"Keys:\", keys)\n",
    "print(\"Values:\", values)\n"
   ],
   "id": "e7ad78293a6eb8ed",
   "outputs": [
    {
     "name": "stdout",
     "output_type": "stream",
     "text": [
      "Table: Parameter containing:\n",
      "tensor([[[-0.3739, -0.7757, -1.4052, -0.5792,  1.0016],\n",
      "         [-0.8579,  1.2246, -0.0269, -0.2233, -0.5088],\n",
      "         [-1.0622,  0.3537, -0.3576, -0.5122, -0.9154],\n",
      "         [-0.2554, -0.5947,  1.2342,  1.3776,  0.7201]],\n",
      "\n",
      "        [[-0.5494, -0.0471,  0.8615,  0.5403, -0.7354],\n",
      "         [ 1.1423, -0.9159,  0.6416,  1.1791,  1.1431],\n",
      "         [ 0.5778, -1.1531, -0.0124, -1.0214,  0.5624],\n",
      "         [ 0.6727, -1.2979, -0.2787,  0.7880,  0.3838]],\n",
      "\n",
      "        [[ 1.6337,  0.4413, -1.4627, -0.5507,  0.7062],\n",
      "         [-0.1102,  0.9644,  0.3042,  1.5919,  0.0848],\n",
      "         [ 2.0041, -0.2585,  1.1184, -0.0306,  0.9702],\n",
      "         [-0.0508,  0.3956,  0.6282, -0.9843, -0.2691]]], requires_grad=True)\n",
      "Keys: tensor([[[-0.2412,  0.1307, -0.5651,  0.5433, -0.5134, -0.1867],\n",
      "         [-0.0400, -0.1012,  0.6570,  0.1288, -0.6075, -0.2701],\n",
      "         [ 0.2598,  0.1417,  0.5023,  0.5287, -0.7298, -0.8323],\n",
      "         [ 1.0437, -0.5006, -0.3584,  0.1425,  0.2337,  0.6773]],\n",
      "\n",
      "        [[ 0.9410, -0.1158,  0.2582,  0.3137, -0.1823, -0.2087],\n",
      "         [ 0.6430, -0.2240, -0.9199, -0.1599,  0.5071,  1.1456],\n",
      "         [ 0.4492,  0.2468, -0.3738,  0.6589,  0.1569, -0.2052],\n",
      "         [ 0.5927,  0.1109, -0.9144,  0.1520,  0.0423,  0.3940]],\n",
      "\n",
      "        [[-0.9303,  0.3725, -0.5866, -0.4026, -0.1578,  0.6856],\n",
      "         [ 0.1573, -0.3892, -0.0625, -0.5047, -0.2519,  0.8692],\n",
      "         [ 0.4018, -0.0383, -0.4618, -0.2187,  0.8283,  1.0990],\n",
      "         [ 0.3558,  0.0570,  0.5256,  0.4257, -0.0640, -0.3395]]],\n",
      "       grad_fn=<AddBackward0>)\n",
      "Values: tensor([[[ 1.1773, -0.3278, -0.3910, -1.3131, -0.0830, -0.2889],\n",
      "         [-0.1008, -0.3425, -0.3987, -0.9238, -0.2098,  0.0484],\n",
      "         [ 0.2474, -0.8150,  0.1779, -0.8497, -0.1756,  0.0747],\n",
      "         [ 0.2195,  0.3789, -0.5523,  0.2025, -0.3760, -0.1221]],\n",
      "\n",
      "        [[ 0.0384, -0.3907,  0.0015,  0.0819, -0.2922,  0.0372],\n",
      "         [ 0.7173,  0.4832, -1.0329,  0.4220, -0.2374, -0.3955],\n",
      "         [ 0.9330, -0.6629, -0.2062, -0.3165,  0.0410, -0.8032],\n",
      "         [ 1.0437, -0.0781, -0.4488,  0.1484, -0.2122, -0.1447]],\n",
      "\n",
      "        [[ 1.0119, -0.0228, -1.3799, -0.7584,  0.0417, -0.4567],\n",
      "         [-0.0184,  0.5628, -1.0530, -0.2067, -0.4126,  0.3301],\n",
      "         [ 0.4499,  0.1723, -1.2427,  0.5313, -0.0120, -0.9520],\n",
      "         [ 0.0796, -0.6582, -0.2477, -0.4316, -0.0355, -0.5600]]],\n",
      "       grad_fn=<AddBackward0>)\n"
     ]
    }
   ],
   "execution_count": 13
  },
  {
   "metadata": {
    "ExecuteTime": {
     "end_time": "2024-07-30T13:22:20.762177Z",
     "start_time": "2024-07-30T13:22:20.757468Z"
    }
   },
   "cell_type": "code",
   "source": [
    "import torch\n",
    "import torch.nn as nn\n",
    "\n",
    "# Define the trainable table\n",
    "class TrainableTable(nn.Module):\n",
    "    def __init__(self, k, n, d):\n",
    "        super(TrainableTable, self).__init__()\n",
    "        # Create a tensor of shape (k, n, d) with random initialization\n",
    "        self.table = nn.Parameter(torch.randn(k, n, d))\n",
    "\n",
    "    def forward(self):\n",
    "        return self.table\n",
    "\n",
    "# Define the key and value generator\n",
    "class KeyAndValueGenerator(nn.Module):\n",
    "    def __init__(self, input_dim, output_dim):\n",
    "        super(KeyAndValueGenerator, self).__init__()\n",
    "        self.key_layer = nn.Linear(input_dim, output_dim)\n",
    "        self.value_layer = nn.Linear(input_dim, output_dim)\n",
    "\n",
    "    def forward(self, x):\n",
    "        keys = self.key_layer(x)\n",
    "        values = self.value_layer(x)\n",
    "        return keys, values\n",
    "\n",
    "# Example usage\n",
    "k, n, d = 3, 4, 5  # Define dimensions\n",
    "key_value_dim = 6  # Example dimension for keys and values\n",
    "\n",
    "# Instantiate models\n",
    "trainable_table_model = TrainableTable(k, n, d)\n",
    "key_value_generator = KeyAndValueGenerator(d, key_value_dim)\n",
    "\n",
    "# Get the table from the model\n",
    "table = trainable_table_model()\n",
    "\n",
    "# Compute keys and values\n",
    "keys, values = key_value_generator(table)\n",
    "\n",
    "print(\"Table:\", table)\n",
    "print(\"Keys:\", keys)\n",
    "print(\"Values:\", values)\n"
   ],
   "id": "1acd1b0504445bf9",
   "outputs": [
    {
     "name": "stdout",
     "output_type": "stream",
     "text": [
      "Table: Parameter containing:\n",
      "tensor([[[ 2.8453e-01, -4.8835e-01,  5.2100e-01, -4.6029e-01, -3.3503e-01],\n",
      "         [-1.5340e-01, -9.3683e-01,  8.7484e-01, -1.2980e+00, -1.2477e+00],\n",
      "         [ 9.1818e-01,  8.2420e-01, -1.4944e-01,  1.5095e+00,  1.4916e+00],\n",
      "         [ 1.7594e+00,  6.1534e-01, -2.1371e+00, -2.1414e-02, -5.3091e-01]],\n",
      "\n",
      "        [[-1.2132e+00,  1.5569e-01,  3.2864e-01, -6.6946e-01,  5.7289e-02],\n",
      "         [-1.5043e+00,  5.2241e-01, -1.5362e+00,  2.3117e-01,  2.2839e+00],\n",
      "         [ 1.0147e+00, -1.3458e+00,  1.6983e-01,  1.6807e+00,  7.4138e-01],\n",
      "         [-7.9872e-02,  6.6976e-01, -1.5330e+00,  1.4170e+00, -5.2577e-01]],\n",
      "\n",
      "        [[ 3.7255e-02,  6.5869e-01, -1.8343e-03, -2.0847e+00,  4.7970e-01],\n",
      "         [ 2.2957e-02, -1.2533e+00,  7.0534e-02, -2.3848e-01,  7.4291e-01],\n",
      "         [ 1.4736e-01, -1.2278e-01, -2.0160e+00, -1.0765e+00,  1.4332e-01],\n",
      "         [-4.9315e-01,  1.1986e+00, -1.5570e-01,  6.5341e-01,  3.4450e-01]]],\n",
      "       requires_grad=True)\n",
      "Keys: tensor([[[ 0.3488,  0.4407, -0.6376, -0.7414,  0.1319,  0.2354],\n",
      "         [ 0.3893,  0.4163, -1.1782, -0.8012, -0.2292,  0.0705],\n",
      "         [ 0.3166,  0.3087,  0.4412, -0.3850,  0.6007,  0.5602],\n",
      "         [ 0.8816,  0.2886,  1.0549,  0.0708,  1.0636,  0.4528]],\n",
      "\n",
      "        [[-0.1624, -0.3203, -0.8261,  0.0052, -0.3194, -0.0938],\n",
      "         [-0.9843, -0.8666,  0.2943,  0.5639,  0.7906, -0.4723],\n",
      "         [ 0.4135,  0.7491, -0.2601, -1.3360,  0.8188, -0.1765],\n",
      "         [ 0.7272, -0.4499,  0.2454,  0.4806,  0.0058, -0.3995]],\n",
      "\n",
      "        [[-0.2369,  0.1454, -0.1089, -0.1164,  0.4506,  0.8214],\n",
      "         [-0.2148,  0.3917, -0.5101, -0.9607,  0.7713, -0.1649],\n",
      "         [-0.0900, -0.1658,  0.4674,  0.1538,  1.0831, -0.1144],\n",
      "         [ 0.2753, -0.3526, -0.1367,  0.3303, -0.2897,  0.1883]]],\n",
      "       grad_fn=<AddBackward0>)\n",
      "Values: tensor([[[ 0.4337, -0.0159, -0.5223, -0.4003, -0.3107,  0.6126],\n",
      "         [ 0.8191, -0.1835, -0.6337, -0.3235, -0.6674,  0.9185],\n",
      "         [-0.2842,  0.4595, -0.1660, -0.4202,  0.6183, -0.2585],\n",
      "         [ 0.1114,  0.5290, -0.0567, -0.6907,  0.2029, -0.4955]],\n",
      "\n",
      "        [[ 0.0223, -0.4200, -0.1781, -0.3003,  0.2963,  0.6596],\n",
      "         [-1.7986, -1.0178,  0.5181, -0.7147,  1.4691,  0.6680],\n",
      "         [-0.5303,  0.1629,  0.1330, -0.3276,  0.2480,  0.3750],\n",
      "         [-0.2774,  0.5258,  0.9085, -0.0169,  1.1439, -0.8348]],\n",
      "\n",
      "        [[ 0.3624, -0.4932, -1.1600, -0.9129, -0.4161,  0.9719],\n",
      "         [-0.5758, -0.6088, -0.2674, -0.6423, -0.0064,  1.1504],\n",
      "         [-0.6781, -0.5735,  0.0127, -0.8858,  0.3518,  0.5806],\n",
      "         [ 0.0702,  0.2870,  0.0952, -0.1445,  0.7652, -0.3101]]],\n",
      "       grad_fn=<AddBackward0>)\n"
     ]
    }
   ],
   "execution_count": 14
  },
  {
   "metadata": {},
   "cell_type": "code",
   "outputs": [],
   "execution_count": null,
   "source": "",
   "id": "6cf60adf7e5b6986"
  }
 ],
 "metadata": {
  "kernelspec": {
   "display_name": "Python 3",
   "language": "python",
   "name": "python3"
  },
  "language_info": {
   "codemirror_mode": {
    "name": "ipython",
    "version": 2
   },
   "file_extension": ".py",
   "mimetype": "text/x-python",
   "name": "python",
   "nbconvert_exporter": "python",
   "pygments_lexer": "ipython2",
   "version": "2.7.6"
  }
 },
 "nbformat": 4,
 "nbformat_minor": 5
}
